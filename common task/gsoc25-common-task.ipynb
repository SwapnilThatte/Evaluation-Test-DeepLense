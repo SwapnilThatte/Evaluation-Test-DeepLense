{
 "cells": [
  {
   "cell_type": "markdown",
   "metadata": {},
   "source": [
    "# Common Test I. Multi-Class Classification"
   ]
  },
  {
   "cell_type": "code",
   "execution_count": null,
   "metadata": {
    "_cell_guid": "b1076dfc-b9ad-4769-8c92-a6c4dae69d19",
    "_uuid": "8f2839f25d086af736a60e9eeb907d3b93b6e0e5",
    "trusted": true
   },
   "outputs": [],
   "source": [
    "# Run this cell if you are working on Kaggle\n",
    "\n",
    "import numpy as np \n",
    "import pandas as pd\n",
    "\n",
    "\n",
    "import os\n",
    "for dirname, _, filenames in os.walk('/kaggle/input'):\n",
    "    for filename in filenames:\n",
    "        print(os.path.join(dirname, filename))\n"
   ]
  },
  {
   "cell_type": "markdown",
   "metadata": {},
   "source": [
    "#### Import All Important Libraries"
   ]
  },
  {
   "cell_type": "code",
   "execution_count": null,
   "metadata": {
    "execution": {
     "iopub.execute_input": "2025-03-16T19:19:17.897199Z",
     "iopub.status.busy": "2025-03-16T19:19:17.896804Z",
     "iopub.status.idle": "2025-03-16T19:19:27.210288Z",
     "shell.execute_reply": "2025-03-16T19:19:27.209416Z",
     "shell.execute_reply.started": "2025-03-16T19:19:17.897176Z"
    },
    "trusted": true
   },
   "outputs": [],
   "source": [
    "import numpy as np \n",
    "import pandas as pd\n",
    "import torch\n",
    "import torch.nn as nn\n",
    "import torch.optim as optim\n",
    "import torch.nn.functional as F\n",
    "import torchvision\n",
    "import torchvision.transforms as transforms\n",
    "from torch.utils.data import DataLoader, Dataset\n",
    "import torchvision.models as models\n",
    "from sklearn.preprocessing import LabelEncoder\n",
    "import os\n",
    "import matplotlib.pyplot as plt\n",
    "import torchmetrics\n",
    "from torchmetrics import AUROC, Accuracy\n",
    "from sklearn.model_selection import train_test_split\n",
    "\n",
    "%matplotlib inline"
   ]
  },
  {
   "cell_type": "code",
   "execution_count": 3,
   "metadata": {
    "execution": {
     "iopub.execute_input": "2025-03-16T19:19:27.211712Z",
     "iopub.status.busy": "2025-03-16T19:19:27.211183Z",
     "iopub.status.idle": "2025-03-16T19:19:27.222116Z",
     "shell.execute_reply": "2025-03-16T19:19:27.221378Z",
     "shell.execute_reply.started": "2025-03-16T19:19:27.211679Z"
    },
    "trusted": true
   },
   "outputs": [
    {
     "data": {
      "text/plain": [
       "<torch._C.Generator at 0x7c97c4f3dfd0>"
      ]
     },
     "execution_count": 3,
     "metadata": {},
     "output_type": "execute_result"
    }
   ],
   "source": [
    "torch.manual_seed(123)"
   ]
  },
  {
   "cell_type": "code",
   "execution_count": 4,
   "metadata": {
    "execution": {
     "iopub.execute_input": "2025-03-16T19:19:27.225271Z",
     "iopub.status.busy": "2025-03-16T19:19:27.224930Z",
     "iopub.status.idle": "2025-03-16T19:19:27.293113Z",
     "shell.execute_reply": "2025-03-16T19:19:27.292479Z",
     "shell.execute_reply.started": "2025-03-16T19:19:27.225236Z"
    },
    "trusted": true
   },
   "outputs": [
    {
     "data": {
      "text/plain": [
       "device(type='cuda')"
      ]
     },
     "execution_count": 4,
     "metadata": {},
     "output_type": "execute_result"
    }
   ],
   "source": [
    "device = torch.device(\"cuda\" if torch.cuda.is_available() else \"cpu\")\n",
    "device"
   ]
  },
  {
   "cell_type": "markdown",
   "metadata": {},
   "source": [
    "##### Define Metrics"
   ]
  },
  {
   "cell_type": "code",
   "execution_count": 5,
   "metadata": {
    "execution": {
     "iopub.execute_input": "2025-03-16T19:19:27.294795Z",
     "iopub.status.busy": "2025-03-16T19:19:27.294486Z",
     "iopub.status.idle": "2025-03-16T19:19:27.519354Z",
     "shell.execute_reply": "2025-03-16T19:19:27.518683Z",
     "shell.execute_reply.started": "2025-03-16T19:19:27.294765Z"
    },
    "trusted": true
   },
   "outputs": [],
   "source": [
    "auroc = AUROC(task=\"multiclass\", num_classes=3).to(device)\n",
    "accuracy = Accuracy(task=\"multiclass\", num_classes=3).to(device)"
   ]
  },
  {
   "cell_type": "markdown",
   "metadata": {},
   "source": [
    "#### Data Loading"
   ]
  },
  {
   "cell_type": "code",
   "execution_count": 6,
   "metadata": {
    "execution": {
     "iopub.execute_input": "2025-03-16T19:19:27.520270Z",
     "iopub.status.busy": "2025-03-16T19:19:27.520033Z",
     "iopub.status.idle": "2025-03-16T19:19:27.523557Z",
     "shell.execute_reply": "2025-03-16T19:19:27.522684Z",
     "shell.execute_reply.started": "2025-03-16T19:19:27.520251Z"
    },
    "trusted": true
   },
   "outputs": [],
   "source": [
    "train_dir = '/kaggle/input/gsoc2025-common-task-data/dataset/train'\n",
    "val_dir = '/kaggle/input/gsoc2025-common-task-data/dataset/val'"
   ]
  },
  {
   "cell_type": "code",
   "execution_count": null,
   "metadata": {
    "execution": {
     "iopub.execute_input": "2025-03-16T19:19:27.524589Z",
     "iopub.status.busy": "2025-03-16T19:19:27.524302Z",
     "iopub.status.idle": "2025-03-16T19:19:38.469392Z",
     "shell.execute_reply": "2025-03-16T19:19:38.468485Z",
     "shell.execute_reply.started": "2025-03-16T19:19:27.524562Z"
    },
    "trusted": true
   },
   "outputs": [],
   "source": [
    "def load_npy_to_dataframe(input_dir):\n",
    "    data = []\n",
    "    for root, dirs, files in os.walk(input_dir):\n",
    "        for file in files:\n",
    "            if file.endswith('.npy'):\n",
    "                npy_path = os.path.join(root, file)\n",
    "                new_row = {'image': npy_path, 'class': root.split('/')[-1]}\n",
    "\n",
    "                data.append(new_row)\n",
    "\n",
    "    return pd.DataFrame(data)\n",
    "\n",
    "\n",
    "train_df = load_npy_to_dataframe(train_dir)\n",
    "test_df = load_npy_to_dataframe(val_dir)"
   ]
  },
  {
   "cell_type": "code",
   "execution_count": 8,
   "metadata": {
    "execution": {
     "iopub.execute_input": "2025-03-16T19:19:38.470752Z",
     "iopub.status.busy": "2025-03-16T19:19:38.470421Z",
     "iopub.status.idle": "2025-03-16T19:19:38.475520Z",
     "shell.execute_reply": "2025-03-16T19:19:38.474859Z",
     "shell.execute_reply.started": "2025-03-16T19:19:38.470721Z"
    },
    "trusted": true
   },
   "outputs": [
    {
     "data": {
      "text/plain": [
       "((30000, 2), (7500, 2))"
      ]
     },
     "execution_count": 8,
     "metadata": {},
     "output_type": "execute_result"
    }
   ],
   "source": [
    "train_df.shape, test_df.shape"
   ]
  },
  {
   "cell_type": "markdown",
   "metadata": {},
   "source": [
    "Label encoder is used to convert categorical labels (text or non-numeric categories) into numerical values."
   ]
  },
  {
   "cell_type": "code",
   "execution_count": 9,
   "metadata": {
    "execution": {
     "iopub.execute_input": "2025-03-16T19:19:38.476406Z",
     "iopub.status.busy": "2025-03-16T19:19:38.476173Z",
     "iopub.status.idle": "2025-03-16T19:19:38.508950Z",
     "shell.execute_reply": "2025-03-16T19:19:38.508348Z",
     "shell.execute_reply.started": "2025-03-16T19:19:38.476387Z"
    },
    "trusted": true
   },
   "outputs": [
    {
     "name": "stdout",
     "output_type": "stream",
     "text": [
      "['no' 'sphere' 'vort']\n"
     ]
    },
    {
     "data": {
      "text/plain": [
       "((30000, 3), (7500, 3))"
      ]
     },
     "execution_count": 9,
     "metadata": {},
     "output_type": "execute_result"
    }
   ],
   "source": [
    "label_encoder = LabelEncoder()\n",
    "train_df['Encoded_class'] = label_encoder.fit_transform(train_df['class'])\n",
    "test_df['Encoded_class'] = label_encoder.fit_transform(test_df['class'])\n",
    "print(label_encoder.inverse_transform([0, 1, 2]))\n",
    "train_df.shape, test_df.shape"
   ]
  },
  {
   "cell_type": "code",
   "execution_count": 10,
   "metadata": {
    "execution": {
     "iopub.execute_input": "2025-03-16T19:19:38.509987Z",
     "iopub.status.busy": "2025-03-16T19:19:38.509728Z",
     "iopub.status.idle": "2025-03-16T19:19:38.522607Z",
     "shell.execute_reply": "2025-03-16T19:19:38.521840Z",
     "shell.execute_reply.started": "2025-03-16T19:19:38.509967Z"
    },
    "trusted": true
   },
   "outputs": [
    {
     "data": {
      "text/plain": [
       "{'0': 'no', '1': 'sphere', '2': 'vort'}"
      ]
     },
     "execution_count": 10,
     "metadata": {},
     "output_type": "execute_result"
    }
   ],
   "source": [
    "class_mapping = {\n",
    "    \"0\" : \"no\",\n",
    "    \"1\" : \"sphere\",\n",
    "    \"2\" : \"vort\"\n",
    " }\n",
    "class_mapping"
   ]
  },
  {
   "cell_type": "code",
   "execution_count": 11,
   "metadata": {
    "execution": {
     "iopub.execute_input": "2025-03-16T19:19:38.523675Z",
     "iopub.status.busy": "2025-03-16T19:19:38.523406Z",
     "iopub.status.idle": "2025-03-16T19:19:38.826045Z",
     "shell.execute_reply": "2025-03-16T19:19:38.825273Z",
     "shell.execute_reply.started": "2025-03-16T19:19:38.523648Z"
    },
    "trusted": true
   },
   "outputs": [
    {
     "data": {
      "text/plain": [
       "<matplotlib.image.AxesImage at 0x7c9715ca6110>"
      ]
     },
     "execution_count": 11,
     "metadata": {},
     "output_type": "execute_result"
    },
    {
     "data": {
      "image/png": "[encoded data removed]",
      "text/plain": [
       "<Figure size 640x480 with 1 Axes>"
      ]
     },
     "metadata": {},
     "output_type": "display_data"
    }
   ],
   "source": [
    "plt.imshow(np.load(train_dir+'/vort/965.npy')[0], cmap='gray')"
   ]
  },
  {
   "cell_type": "code",
   "execution_count": 13,
   "metadata": {
    "execution": {
     "iopub.execute_input": "2025-03-16T19:52:15.533604Z",
     "iopub.status.busy": "2025-03-16T19:52:15.533245Z",
     "iopub.status.idle": "2025-03-16T19:52:15.545204Z",
     "shell.execute_reply": "2025-03-16T19:52:15.544383Z",
     "shell.execute_reply.started": "2025-03-16T19:52:15.533579Z"
    },
    "trusted": true
   },
   "outputs": [],
   "source": [
    "train_df, val_df = train_test_split(train_df, test_size=0.1, random_state=123)"
   ]
  },
  {
   "cell_type": "code",
   "execution_count": 14,
   "metadata": {
    "execution": {
     "iopub.execute_input": "2025-03-16T19:52:15.809083Z",
     "iopub.status.busy": "2025-03-16T19:52:15.808783Z",
     "iopub.status.idle": "2025-03-16T19:52:15.813820Z",
     "shell.execute_reply": "2025-03-16T19:52:15.812993Z",
     "shell.execute_reply.started": "2025-03-16T19:52:15.809059Z"
    },
    "trusted": true
   },
   "outputs": [],
   "source": [
    "class GravLenseImageDataset(Dataset):\n",
    "    def __init__(self, dataframe, transform=None):\n",
    "        self.dataframe = dataframe\n",
    "        self.transform = transform\n",
    "\n",
    "    def __len__(self):\n",
    "        return len(self.dataframe)\n",
    "\n",
    "    def __getitem__(self, idx):\n",
    "        img_name = self.dataframe.iloc[idx, 0]\n",
    "        image = np.load(img_name).astype(np.float32).reshape(150, 150)\n",
    "        if self.transform:\n",
    "            image = self.transform(image)\n",
    "\n",
    "        return image, self.dataframe.iloc[idx]['Encoded_class']"
   ]
  },
  {
   "cell_type": "code",
   "execution_count": 26,
   "metadata": {
    "execution": {
     "iopub.execute_input": "2025-03-16T20:03:59.233391Z",
     "iopub.status.busy": "2025-03-16T20:03:59.232996Z",
     "iopub.status.idle": "2025-03-16T20:03:59.238302Z",
     "shell.execute_reply": "2025-03-16T20:03:59.237284Z",
     "shell.execute_reply.started": "2025-03-16T20:03:59.233358Z"
    },
    "trusted": true
   },
   "outputs": [],
   "source": [
    "train_transform = transforms.Compose([\n",
    "    transforms.ToTensor(),\n",
    "    transforms.RandomHorizontalFlip(p=0.5),\n",
    "    transforms.RandomVerticalFlip(p=0.5),\n",
    "    transforms.RandomRotation(15),\n",
    "])\n",
    "\n",
    "test_transform = transforms.Compose([\n",
    "    transforms.ToTensor(),\n",
    "])"
   ]
  },
  {
   "cell_type": "code",
   "execution_count": 27,
   "metadata": {
    "execution": {
     "iopub.execute_input": "2025-03-16T20:03:59.424435Z",
     "iopub.status.busy": "2025-03-16T20:03:59.424018Z",
     "iopub.status.idle": "2025-03-16T20:03:59.431989Z",
     "shell.execute_reply": "2025-03-16T20:03:59.431222Z",
     "shell.execute_reply.started": "2025-03-16T20:03:59.424402Z"
    },
    "trusted": true
   },
   "outputs": [
    {
     "name": "stdout",
     "output_type": "stream",
     "text": [
      "Batch Sizes\n",
      "Training Data : 128\tValidation Data : 128\tTesting Data : 128\n"
     ]
    }
   ],
   "source": [
    "dataset = GravLenseImageDataset(dataframe=train_df, transform=train_transform)\n",
    "dataloader = DataLoader(dataset, batch_size=128, shuffle=True, drop_last=True, num_workers=2)\n",
    "\n",
    "val_dataset = GravLenseImageDataset(dataframe=val_df, transform=test_transform)\n",
    "val_dataloader = DataLoader(val_dataset, batch_size=128, shuffle=False, num_workers=2)\n",
    "\n",
    "test_dataset = GravLenseImageDataset(dataframe=test_df, transform=test_transform)\n",
    "test_dataloader = DataLoader(test_dataset, batch_size=128, shuffle=False, num_workers=2)\n",
    "print(f\"Batch Sizes\")\n",
    "print(f\"Training Data : {dataloader.batch_size}\\tValidation Data : {val_dataloader.batch_size}\\tTesting Data : {test_dataloader.batch_size}\")"
   ]
  },
  {
   "cell_type": "markdown",
   "metadata": {},
   "source": [
    "#### Define The Model"
   ]
  },
  {
   "cell_type": "code",
   "execution_count": 37,
   "metadata": {
    "execution": {
     "iopub.execute_input": "2025-03-16T20:19:13.078355Z",
     "iopub.status.busy": "2025-03-16T20:19:13.077992Z",
     "iopub.status.idle": "2025-03-16T20:19:13.083744Z",
     "shell.execute_reply": "2025-03-16T20:19:13.082716Z",
     "shell.execute_reply.started": "2025-03-16T20:19:13.078326Z"
    },
    "trusted": true
   },
   "outputs": [],
   "source": [
    "class Model(nn.Module):\n",
    "    def __init__(self):\n",
    "        super().__init__()\n",
    "\n",
    "        self.resnet18 = models.resnet18(pretrained=True)\n",
    "        num_ftrs = self.resnet18.fc.in_features\n",
    "        self.resnet18.fc = nn.Sequential(\n",
    "            nn.Linear(num_ftrs, 256),\n",
    "            nn.LeakyReLU(0.05, inplace=True),\n",
    "            nn.Dropout(0.4),\n",
    "\n",
    "            nn.Linear(256, 3)\n",
    "        )\n",
    "\n",
    "        self.resnet18.conv1 = nn.Conv2d(1, 64, kernel_size=7, stride=2, padding=3, bias=False)\n",
    "\n",
    "    def forward(self, x):\n",
    "        return self.resnet18(x)"
   ]
  },
  {
   "cell_type": "code",
   "execution_count": 38,
   "metadata": {
    "execution": {
     "iopub.execute_input": "2025-03-16T20:19:13.368365Z",
     "iopub.status.busy": "2025-03-16T20:19:13.368043Z",
     "iopub.status.idle": "2025-03-16T20:19:13.612036Z",
     "shell.execute_reply": "2025-03-16T20:19:13.611134Z",
     "shell.execute_reply.started": "2025-03-16T20:19:13.368337Z"
    },
    "trusted": true
   },
   "outputs": [],
   "source": [
    "model = Model().to(device)"
   ]
  },
  {
   "cell_type": "code",
   "execution_count": 39,
   "metadata": {
    "execution": {
     "iopub.execute_input": "2025-03-16T20:19:13.613472Z",
     "iopub.status.busy": "2025-03-16T20:19:13.613198Z",
     "iopub.status.idle": "2025-03-16T20:19:13.618909Z",
     "shell.execute_reply": "2025-03-16T20:19:13.618191Z",
     "shell.execute_reply.started": "2025-03-16T20:19:13.613450Z"
    },
    "trusted": true
   },
   "outputs": [
    {
     "data": {
      "text/plain": [
       "AdamW (\n",
       "Parameter Group 0\n",
       "    amsgrad: False\n",
       "    betas: (0.9, 0.999)\n",
       "    capturable: False\n",
       "    differentiable: False\n",
       "    eps: 1e-08\n",
       "    foreach: None\n",
       "    fused: None\n",
       "    lr: 0.0004\n",
       "    maximize: False\n",
       "    weight_decay: 0.001\n",
       ")"
      ]
     },
     "execution_count": 39,
     "metadata": {},
     "output_type": "execute_result"
    }
   ],
   "source": [
    "optimizer = optim.AdamW(model.parameters(), lr=4e-4, weight_decay=1e-3)\n",
    "optimizer"
   ]
  },
  {
   "cell_type": "code",
   "execution_count": 40,
   "metadata": {
    "execution": {
     "iopub.execute_input": "2025-03-16T20:19:13.729891Z",
     "iopub.status.busy": "2025-03-16T20:19:13.729640Z",
     "iopub.status.idle": "2025-03-16T20:19:13.733200Z",
     "shell.execute_reply": "2025-03-16T20:19:13.732415Z",
     "shell.execute_reply.started": "2025-03-16T20:19:13.729866Z"
    },
    "trusted": true
   },
   "outputs": [],
   "source": [
    "criterion = nn.CrossEntropyLoss(reduction='mean').cuda()"
   ]
  },
  {
   "cell_type": "code",
   "execution_count": null,
   "metadata": {
    "execution": {
     "iopub.execute_input": "2025-03-16T20:19:13.904289Z",
     "iopub.status.busy": "2025-03-16T20:19:13.903980Z",
     "iopub.status.idle": "2025-03-16T20:19:13.909592Z",
     "shell.execute_reply": "2025-03-16T20:19:13.908618Z",
     "shell.execute_reply.started": "2025-03-16T20:19:13.904265Z"
    },
    "trusted": true
   },
   "outputs": [],
   "source": [
    "# Validation Function\n",
    "\n",
    "@torch.no_grad()\n",
    "def val():\n",
    "    model.eval()\n",
    "    ar_roc = 0\n",
    "    ce_loss = 0\n",
    "    batches = 0\n",
    "    for i, batch in enumerate(val_dataloader):\n",
    "\n",
    "        images, labels = batch\n",
    "        images = images.to(device).float()\n",
    "        labels = labels.to(device).long()\n",
    "        batches += 1\n",
    "\n",
    "        outputs = model(images)\n",
    "\n",
    "        loss = criterion(outputs, labels)\n",
    "\n",
    "        ce_loss += loss.item()\n",
    "        auroc.update(outputs, labels)\n",
    "\n",
    "        accuracy.update(outputs, labels)\n",
    "\n",
    "\n",
    "    print(f\"\\nVALIDATION:\\tAUROC: {auroc.compute():.4f} | Accuracy: {accuracy.compute():.4f} | CE Loss: {(ce_loss/batches):.4f}\")\n",
    "    return ce_loss/batches\n"
   ]
  },
  {
   "cell_type": "code",
   "execution_count": null,
   "metadata": {
    "execution": {
     "iopub.execute_input": "2025-03-16T20:52:13.908801Z",
     "iopub.status.busy": "2025-03-16T20:52:13.908454Z",
     "iopub.status.idle": "2025-03-16T20:52:13.914245Z",
     "shell.execute_reply": "2025-03-16T20:52:13.913297Z",
     "shell.execute_reply.started": "2025-03-16T20:52:13.908772Z"
    },
    "trusted": true
   },
   "outputs": [],
   "source": [
    "# Testing Function\n",
    "\n",
    "@torch.no_grad()\n",
    "def test():\n",
    "    model.eval()\n",
    "    ar_roc = 0\n",
    "    ce_loss = 0\n",
    "    batches = 0\n",
    "    for i, batch in enumerate(test_dataloader):\n",
    "\n",
    "        images, labels = batch\n",
    "        images = images.to(device).float()\n",
    "        labels = labels.to(device).long()\n",
    "        batches += 1\n",
    "\n",
    "        outputs = model(images)\n",
    "\n",
    "        loss = criterion(outputs, labels)\n",
    "\n",
    "        ce_loss += loss.item()\n",
    "        auroc.update(outputs, labels)\n",
    "\n",
    "        accuracy.update(outputs, labels)\n",
    "\n",
    "\n",
    "    print(f\"TESTING:\\tAUROC: {auroc.compute():.4f} | Accuracy: {accuracy.compute():.4f} | CE Loss: {(ce_loss/batches):.4f}\")\n"
   ]
  },
  {
   "cell_type": "code",
   "execution_count": null,
   "metadata": {
    "execution": {
     "iopub.execute_input": "2025-03-16T20:19:16.284357Z",
     "iopub.status.busy": "2025-03-16T20:19:16.284029Z",
     "iopub.status.idle": "2025-03-16T20:19:16.289643Z",
     "shell.execute_reply": "2025-03-16T20:19:16.288863Z",
     "shell.execute_reply.started": "2025-03-16T20:19:16.284331Z"
    },
    "trusted": true
   },
   "outputs": [],
   "source": [
    "# Training Function\n",
    "\n",
    "def train():\n",
    "    model.train()\n",
    "    ar_roc = 0\n",
    "    ce_loss = 0\n",
    "    batches = 0\n",
    "    for i, batch in enumerate(dataloader):\n",
    "        if i % 100 == 0:\n",
    "            print(f\"Batch {i}\", end=\"\\t\")\n",
    "\n",
    "        images, labels = batch\n",
    "        images = images.to(device).float()\n",
    "        labels = labels.to(device).long()\n",
    "        batches += 1\n",
    "\n",
    "        outputs = model(images)\n",
    "\n",
    "        loss = criterion(outputs, labels)\n",
    "\n",
    "        loss.backward()\n",
    "        optimizer.step()\n",
    "        optimizer.zero_grad()\n",
    "\n",
    "        ce_loss += loss.item()\n",
    "        auroc.update(outputs, labels)\n",
    "        accuracy.update(outputs, labels)\n",
    "\n",
    "\n",
    "    print(f\"\\nTRAINING:\\tAUROC: {auroc.compute():.4f} | Accuracy: {accuracy.compute():.4f} | CE Loss: {(ce_loss/batches):.4f}\")\n"
   ]
  },
  {
   "cell_type": "code",
   "execution_count": null,
   "metadata": {
    "execution": {
     "iopub.execute_input": "2025-03-16T20:19:16.489561Z",
     "iopub.status.busy": "2025-03-16T20:19:16.489247Z",
     "iopub.status.idle": "2025-03-16T20:34:24.299337Z",
     "shell.execute_reply": "2025-03-16T20:34:24.298221Z",
     "shell.execute_reply.started": "2025-03-16T20:19:16.489534Z"
    },
    "trusted": true
   },
   "outputs": [
    {
     "name": "stdout",
     "output_type": "stream",
     "text": [
      "Epoch [1/25]\n",
      "Batch 0\tBatch 100\tBatch 200\t\n",
      "TRAINING:\tAUROC: 0.4982 | Accuracy: 0.3304 | CE Loss: 1.1065\n",
      "\n",
      "VALIDATION:\tAUROC: 0.5019 | Accuracy: 0.3203 | CE Loss: 1.1000\n",
      "_______________________________________________________________________________________________________________________\n",
      "Epoch [2/25]\n",
      "Batch 0\tBatch 100\tBatch 200\t\n",
      "TRAINING:\tAUROC: 0.5483 | Accuracy: 0.3624 | CE Loss: 1.0868\n",
      "\n",
      "VALIDATION:\tAUROC: 0.6482 | Accuracy: 0.3913 | CE Loss: 1.1182\n",
      "_______________________________________________________________________________________________________________________\n",
      "Epoch [3/25]\n",
      "Batch 0\tBatch 100\tBatch 200\t\n",
      "TRAINING:\tAUROC: 0.7540 | Accuracy: 0.5552 | CE Loss: 0.8793\n",
      "\n",
      "VALIDATION:\tAUROC: 0.8041 | Accuracy: 0.5203 | CE Loss: 1.0574\n",
      "_______________________________________________________________________________________________________________________\n",
      "Epoch [4/25]\n",
      "Batch 0\tBatch 100\tBatch 200\t\n",
      "TRAINING:\tAUROC: 0.8757 | Accuracy: 0.7186 | CE Loss: 0.6430\n",
      "\n",
      "VALIDATION:\tAUROC: 0.9335 | Accuracy: 0.7697 | CE Loss: 0.5189\n",
      "_______________________________________________________________________________________________________________________\n",
      "Epoch [5/25]\n",
      "Batch 0\tBatch 100\tBatch 200\t\n",
      "TRAINING:\tAUROC: 0.9285 | Accuracy: 0.7993 | CE Loss: 0.4912\n",
      "\n",
      "VALIDATION:\tAUROC: 0.9555 | Accuracy: 0.8373 | CE Loss: 0.3919\n",
      "_______________________________________________________________________________________________________________________\n",
      "Epoch [6/25]\n",
      "Batch 0\tBatch 100\tBatch 200\t\n",
      "TRAINING:\tAUROC: 0.9486 | Accuracy: 0.8352 | CE Loss: 0.4150\n",
      "\n",
      "VALIDATION:\tAUROC: 0.9484 | Accuracy: 0.8027 | CE Loss: 0.4908\n",
      "_______________________________________________________________________________________________________________________\n",
      "Epoch [7/25]\n",
      "Batch 0\tBatch 100\tBatch 200\t\n",
      "TRAINING:\tAUROC: 0.9580 | Accuracy: 0.8532 | CE Loss: 0.3739\n",
      "\n",
      "VALIDATION:\tAUROC: 0.9658 | Accuracy: 0.8523 | CE Loss: 0.3635\n",
      "_______________________________________________________________________________________________________________________\n",
      "Epoch [8/25]\n",
      "Batch 0\tBatch 100\tBatch 200\t\n",
      "TRAINING:\tAUROC: 0.9640 | Accuracy: 0.8672 | CE Loss: 0.3459\n",
      "\n",
      "VALIDATION:\tAUROC: 0.9763 | Accuracy: 0.8823 | CE Loss: 0.2855\n",
      "_______________________________________________________________________________________________________________________\n",
      "Epoch [9/25]\n",
      "Batch 0\tBatch 100\tBatch 200\t\n",
      "TRAINING:\tAUROC: 0.9677 | Accuracy: 0.8782 | CE Loss: 0.3246\n",
      "\n",
      "VALIDATION:\tAUROC: 0.9780 | Accuracy: 0.8887 | CE Loss: 0.2904\n",
      "_______________________________________________________________________________________________________________________\n",
      "Epoch [10/25]\n",
      "Batch 0\tBatch 100\tBatch 200\t\n",
      "TRAINING:\tAUROC: 0.9706 | Accuracy: 0.8826 | CE Loss: 0.3094\n",
      "\n",
      "VALIDATION:\tAUROC: 0.9792 | Accuracy: 0.8850 | CE Loss: 0.2829\n",
      "_______________________________________________________________________________________________________________________\n",
      "Epoch [11/25]\n",
      "Batch 0\tBatch 100\tBatch 200\t\n",
      "TRAINING:\tAUROC: 0.9748 | Accuracy: 0.8943 | CE Loss: 0.2837\n",
      "\n",
      "VALIDATION:\tAUROC: 0.9796 | Accuracy: 0.8867 | CE Loss: 0.2722\n",
      "_______________________________________________________________________________________________________________________\n",
      "Epoch [12/25]\n",
      "Batch 0\tBatch 100\tBatch 200\t\n",
      "TRAINING:\tAUROC: 0.9761 | Accuracy: 0.8965 | CE Loss: 0.2755\n",
      "\n",
      "VALIDATION:\tAUROC: 0.9814 | Accuracy: 0.8987 | CE Loss: 0.2610\n",
      "_______________________________________________________________________________________________________________________\n",
      "Epoch [13/25]\n",
      "Batch 0\tBatch 100\tBatch 200\t\n",
      "TRAINING:\tAUROC: 0.9776 | Accuracy: 0.9006 | CE Loss: 0.2688\n",
      "\n",
      "VALIDATION:\tAUROC: 0.9869 | Accuracy: 0.9223 | CE Loss: 0.2042\n",
      "_______________________________________________________________________________________________________________________\n",
      "Epoch [14/25]\n",
      "Batch 0\tBatch 100\tBatch 200\t\n",
      "TRAINING:\tAUROC: 0.9791 | Accuracy: 0.9046 | CE Loss: 0.2562\n",
      "\n",
      "VALIDATION:\tAUROC: 0.9831 | Accuracy: 0.9070 | CE Loss: 0.2488\n",
      "_______________________________________________________________________________________________________________________\n",
      "Epoch [15/25]\n",
      "Batch 0\tBatch 100\tBatch 200\t\n",
      "TRAINING:\tAUROC: 0.9805 | Accuracy: 0.9081 | CE Loss: 0.2484\n",
      "\n",
      "VALIDATION:\tAUROC: 0.9842 | Accuracy: 0.9147 | CE Loss: 0.2224\n",
      "_______________________________________________________________________________________________________________________\n",
      "Epoch [16/25]\n",
      "Batch 0\tBatch 100\tBatch 200\t\n",
      "TRAINING:\tAUROC: 0.9811 | Accuracy: 0.9093 | CE Loss: 0.2439\n",
      "\n",
      "VALIDATION:\tAUROC: 0.9849 | Accuracy: 0.9147 | CE Loss: 0.2223\n",
      "_______________________________________________________________________________________________________________________\n",
      "Epoch [17/25]\n",
      "Batch 0\tBatch 100\tBatch 200\t\n",
      "TRAINING:\tAUROC: 0.9833 | Accuracy: 0.9164 | CE Loss: 0.2283\n",
      "\n",
      "VALIDATION:\tAUROC: 0.9879 | Accuracy: 0.9253 | CE Loss: 0.1947\n",
      "_______________________________________________________________________________________________________________________\n",
      "Epoch [18/25]\n",
      "Batch 0\tBatch 100\tBatch 200\t\n",
      "TRAINING:\tAUROC: 0.9836 | Accuracy: 0.9155 | CE Loss: 0.2282\n",
      "\n",
      "VALIDATION:\tAUROC: 0.9811 | Accuracy: 0.8907 | CE Loss: 0.3348\n",
      "_______________________________________________________________________________________________________________________\n",
      "Epoch [19/25]\n",
      "Batch 0\tBatch 100\tBatch 200\t\n",
      "TRAINING:\tAUROC: 0.9841 | Accuracy: 0.9179 | CE Loss: 0.2226\n",
      "\n",
      "VALIDATION:\tAUROC: 0.9891 | Accuracy: 0.9267 | CE Loss: 0.1964\n",
      "_______________________________________________________________________________________________________________________\n",
      "Epoch [20/25]\n",
      "Batch 0\tBatch 100\tBatch 200\t\n",
      "TRAINING:\tAUROC: 0.9855 | Accuracy: 0.9215 | CE Loss: 0.2118\n",
      "\n",
      "VALIDATION:\tAUROC: 0.9900 | Accuracy: 0.9287 | CE Loss: 0.1847\n",
      "_______________________________________________________________________________________________________________________\n",
      "Epoch [21/25]\n",
      "Batch 0\tBatch 100\tBatch 200\t\n",
      "TRAINING:\tAUROC: 0.9861 | Accuracy: 0.9227 | CE Loss: 0.2084\n",
      "\n",
      "VALIDATION:\tAUROC: 0.9883 | Accuracy: 0.9307 | CE Loss: 0.1915\n",
      "_______________________________________________________________________________________________________________________\n",
      "Epoch [22/25]\n",
      "Batch 0\tBatch 100\tBatch 200\t\n",
      "TRAINING:\tAUROC: 0.9857 | Accuracy: 0.9230 | CE Loss: 0.2093\n",
      "\n",
      "VALIDATION:\tAUROC: 0.9896 | Accuracy: 0.9293 | CE Loss: 0.1829\n",
      "_______________________________________________________________________________________________________________________\n",
      "Epoch [23/25]\n",
      "Batch 0\tBatch 100\tBatch 200\t\n",
      "TRAINING:\tAUROC: 0.9870 | Accuracy: 0.9266 | CE Loss: 0.2012\n",
      "\n",
      "VALIDATION:\tAUROC: 0.9880 | Accuracy: 0.9260 | CE Loss: 0.2027\n",
      "_______________________________________________________________________________________________________________________\n",
      "Epoch [24/25]\n",
      "Batch 0\tBatch 100\tBatch 200\t\n",
      "TRAINING:\tAUROC: 0.9869 | Accuracy: 0.9275 | CE Loss: 0.2001\n",
      "\n",
      "VALIDATION:\tAUROC: 0.9847 | Accuracy: 0.8963 | CE Loss: 0.3883\n",
      "_______________________________________________________________________________________________________________________\n",
      "Epoch [25/25]\n",
      "Batch 0\tBatch 100\tBatch 200\t\n",
      "TRAINING:\tAUROC: 0.9879 | Accuracy: 0.9294 | CE Loss: 0.1932\n",
      "\n",
      "VALIDATION:\tAUROC: 0.9863 | Accuracy: 0.9083 | CE Loss: 0.2926\n",
      "_______________________________________________________________________________________________________________________\n",
      "Saving Model....\n"
     ]
    }
   ],
   "source": [
    "# Training Loop\n",
    "\n",
    "EPOCHS = 25\n",
    "curr_best_loss = 99999999\n",
    "best_model = model\n",
    "for epoch in range(EPOCHS):\n",
    "    print(f\"Epoch [{epoch+1}/{EPOCHS}]\")\n",
    "    train()\n",
    "    auroc.reset()\n",
    "    accuracy.reset()\n",
    "    loss = val()\n",
    "    if loss < curr_best_loss:\n",
    "        best_model = model\n",
    "        curr_best_loss = loss\n",
    "    auroc.reset()\n",
    "    accuracy.reset()\n",
    "    print(\"_______________________________________________________________________________________________________________________\")\n",
    "\n",
    "print(f\"Saving Model....\")\n",
    "torch.save(best_model.state_dict(), \"./gsoc25_common_task_model_v2.pth\")"
   ]
  },
  {
   "cell_type": "code",
   "execution_count": 49,
   "metadata": {
    "execution": {
     "iopub.execute_input": "2025-03-16T20:52:19.711786Z",
     "iopub.status.busy": "2025-03-16T20:52:19.711518Z",
     "iopub.status.idle": "2025-03-16T20:52:28.121686Z",
     "shell.execute_reply": "2025-03-16T20:52:28.120584Z",
     "shell.execute_reply.started": "2025-03-16T20:52:19.711766Z"
    },
    "trusted": true
   },
   "outputs": [
    {
     "name": "stdout",
     "output_type": "stream",
     "text": [
      "TESTING:\tAUROC: 0.9841 | Accuracy: 0.9081 | CE Loss: 0.3165\n"
     ]
    }
   ],
   "source": [
    "test()"
   ]
  },
  {
   "cell_type": "markdown",
   "metadata": {},
   "source": [
    "### Plotting ROC Curve"
   ]
  },
  {
   "cell_type": "code",
   "execution_count": null,
   "metadata": {
    "execution": {
     "iopub.execute_input": "2025-03-16T20:39:28.206353Z",
     "iopub.status.busy": "2025-03-16T20:39:28.205988Z",
     "iopub.status.idle": "2025-03-16T20:39:33.660781Z",
     "shell.execute_reply": "2025-03-16T20:39:33.659865Z",
     "shell.execute_reply.started": "2025-03-16T20:39:28.206321Z"
    },
    "trusted": true
   },
   "outputs": [
    {
     "name": "stdout",
     "output_type": "stream",
     "text": [
      "AUROC Scores: tensor([0.9906, 0.9732, 0.9885], device='cuda:0')\n"
     ]
    },
    {
     "data": {
      "image/png": "[encoded data removed]",
      "text/plain": [
       "<Figure size 800x600 with 1 Axes>"
      ]
     },
     "metadata": {},
     "output_type": "display_data"
    }
   ],
   "source": [
    "auroc_chart = torchmetrics.AUROC(num_classes=3, average=None, task=\"multiclass\").to(device)  # Compute per-class AUROC\n",
    "\n",
    "all_probs = []\n",
    "all_labels = []\n",
    "\n",
    "model.eval()\n",
    "with torch.no_grad():\n",
    "    for inputs, labels in test_dataloader:\n",
    "        inputs, labels = inputs.to(device), labels.to(device)\n",
    "        outputs = best_model(inputs)\n",
    "        all_probs.append(outputs)\n",
    "        all_labels.append(labels)\n",
    "\n",
    "all_probs = torch.cat(all_probs)\n",
    "all_labels = torch.cat(all_labels)\n",
    "\n",
    "# Compute AUROC\n",
    "auroc_scores = auroc_chart(all_probs, all_labels)\n",
    "print(f\"AUROC Scores: {auroc_scores}\")\n",
    "\n",
    "# Compute TPR and FPR for each class\n",
    "fpr, tpr, _ = torchmetrics.functional.roc(all_probs, all_labels, num_classes=3, task=\"multiclass\")\n",
    "\n",
    "# Plot ROC curve\n",
    "plt.figure(figsize=(8, 6))\n",
    "for i in range(3):\n",
    "    plt.plot(fpr[i].cpu(), tpr[i].cpu(), label=f'{class_mapping[str(i)]} (AUROC: {auroc_scores[i]:.4f})')\n",
    "\n",
    "plt.plot([0, 1], [0, 1], 'k--')  # Diagonal line for reference\n",
    "plt.xlabel('False Positive Rate (FPR)')\n",
    "plt.ylabel('True Positive Rate (TPR)')\n",
    "plt.title('ROC Curve')\n",
    "plt.legend()\n",
    "plt.show()\n"
   ]
  },
  {
   "cell_type": "code",
   "execution_count": null,
   "metadata": {
    "trusted": true
   },
   "outputs": [],
   "source": []
  }
 ],
 "metadata": {
  "kaggle": {
   "accelerator": "gpu",
   "dataSources": [
    {
     "datasetId": 6767824,
     "sourceId": 10890776,
     "sourceType": "datasetVersion"
    }
   ],
   "dockerImageVersionId": 30919,
   "isGpuEnabled": true,
   "isInternetEnabled": true,
   "language": "python",
   "sourceType": "notebook"
  },
  "kernelspec": {
   "display_name": "Python 3",
   "language": "python",
   "name": "python3"
  },
  "language_info": {
   "codemirror_mode": {
    "name": "ipython",
    "version": 3
   },
   "file_extension": ".py",
   "mimetype": "text/x-python",
   "name": "python",
   "nbconvert_exporter": "python",
   "pygments_lexer": "ipython3",
   "version": "3.10.12"
  }
 },
 "nbformat": 4,
 "nbformat_minor": 4
}
